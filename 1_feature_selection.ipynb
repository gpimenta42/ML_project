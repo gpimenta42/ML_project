{
 "cells": [
  {
   "cell_type": "markdown",
   "metadata": {},
   "source": [
    "# Feature Selection"
   ]
  },
  {
   "cell_type": "code",
   "execution_count": 42,
   "metadata": {},
   "outputs": [],
   "source": [
    "# !pip install catboost"
   ]
  },
  {
   "cell_type": "code",
   "execution_count": 43,
   "metadata": {},
   "outputs": [],
   "source": [
    "import pandas as pd\n",
    "import numpy as np\n",
    "\n",
    "from sklearn.model_selection import StratifiedKFold\n",
    "\n",
    "from sklearn.model_selection import StratifiedKFold\n",
    "from sklearn.ensemble import RandomForestClassifier\n",
    "\n",
    "from sklearn.feature_selection import RFE\n",
    "\n",
    "from sklearn.metrics import f1_score, classification_report\n",
    "import warnings\n",
    "warnings.filterwarnings('ignore')\n",
    "\n",
    "from collections import Counter \n",
    "from utils import *"
   ]
  },
  {
   "cell_type": "code",
   "execution_count": 44,
   "metadata": {},
   "outputs": [],
   "source": [
    "df = pd.read_csv(\"data/train_new_feats.csv\")"
   ]
  },
  {
   "cell_type": "code",
   "execution_count": 45,
   "metadata": {},
   "outputs": [],
   "source": [
    "target = [[f\"target_{i}\" for i in range(1, 9)] + [\"Claim Injury Type\"] + [\"WCB Decision\"] + [\"Agreement Reached\"] + [\"Claim Injury Type_encoded\"]]\n",
    "target = [item for sublist in target for item in sublist]\n",
    "\n",
    "\n",
    "binary_target = [f\"target_{i}\" for i in range(1, 9)]\n",
    "\n",
    "original_target  = [col for col in target if col not in binary_target]\n",
    "\n",
    "ordinal_target = [\"Claim Injury Type_encoded\"]"
   ]
  },
  {
   "cell_type": "code",
   "execution_count": 46,
   "metadata": {},
   "outputs": [],
   "source": [
    "features = [feat for feat in df.columns if feat not in target]\n",
    "\n",
    "features = [feat for feat in features if df[feat].dtype != \"datetime64[ns]\"]\n",
    "\n",
    "num_feats = [feat for feat in features if df[feat].dtype != \"object\"]\n",
    "\n",
    "cat_feats = [feat for feat in features if df[feat].dtype == \"object\"]\n",
    "\n",
    "cat_feats_index = [features.index(feat) for feat in cat_feats]\n"
   ]
  },
  {
   "cell_type": "code",
   "execution_count": 47,
   "metadata": {},
   "outputs": [
    {
     "data": {
      "text/plain": [
       "Index(['Age at Injury', 'Alternative Dispute Resolution',\n",
       "       'Attorney/Representative', 'Average Weekly Wage', 'Carrier Name',\n",
       "       'Carrier Type', 'County of Injury', 'COVID-19 Indicator',\n",
       "       'District Name', 'Gender', 'IME-4 Count', 'Industry Code Description',\n",
       "       'Medical Fee Region', 'WCIO Cause of Injury Description',\n",
       "       'WCIO Nature of Injury Description', 'WCIO Part Of Body Description',\n",
       "       'Zip Code', 'Number of Dependents', 'Accident Date_year',\n",
       "       'Accident Date_missing', 'Accident Date_weekday', 'Accident_weekend',\n",
       "       'Accident Date_month', 'Accident Date_month_cos',\n",
       "       'Accident Date_month_sin', 'Accident Date_assembly_gap_days',\n",
       "       'C3-C2_gap_days', 'C2_missing', 'C3_missing', 'C2_Accident_gap_weeks',\n",
       "       'C3_Accident_gap_weeks', 'Hearing Date_missing',\n",
       "       'Hearing_C3 gap_months', 'Hearing_C2 gap_months',\n",
       "       'Hearing_assembly_gap_months', 'Days to Assembly',\n",
       "       'Days to First Hearing', 'Days from COVID', 'Average Weekly Wage_log',\n",
       "       'County of Worker', 'Work_on_distance', 'Age_not_correct'],\n",
       "      dtype='object')"
      ]
     },
     "execution_count": 47,
     "metadata": {},
     "output_type": "execute_result"
    }
   ],
   "source": [
    "X= df[features]\n",
    "X.columns"
   ]
  },
  {
   "cell_type": "code",
   "execution_count": 48,
   "metadata": {},
   "outputs": [
    {
     "data": {
      "application/vnd.microsoft.datawrangler.viewer.v0+json": {
       "columns": [
        {
         "name": "index",
         "rawType": "int64",
         "type": "integer"
        },
        {
         "name": "Claim Injury Type_encoded",
         "rawType": "float64",
         "type": "float"
        }
       ],
       "ref": "1af0dfc3-8ef2-452d-9715-9d1077fd1cc2",
       "rows": [
        [
         "0",
         "1.0"
        ],
        [
         "1",
         "3.0"
        ],
        [
         "2",
         "3.0"
        ],
        [
         "3",
         "1.0"
        ],
        [
         "4",
         "2.0"
        ],
        [
         "5",
         "1.0"
        ],
        [
         "6",
         "1.0"
        ],
        [
         "7",
         "1.0"
        ],
        [
         "8",
         "2.0"
        ],
        [
         "9",
         "1.0"
        ],
        [
         "10",
         "1.0"
        ],
        [
         "11",
         "1.0"
        ],
        [
         "12",
         "1.0"
        ],
        [
         "13",
         "3.0"
        ],
        [
         "14",
         "4.0"
        ],
        [
         "15",
         "1.0"
        ],
        [
         "16",
         "2.0"
        ],
        [
         "17",
         "5.0"
        ],
        [
         "18",
         "1.0"
        ],
        [
         "19",
         "3.0"
        ],
        [
         "20",
         "1.0"
        ],
        [
         "21",
         "1.0"
        ],
        [
         "22",
         "4.0"
        ],
        [
         "23",
         "1.0"
        ],
        [
         "24",
         "3.0"
        ],
        [
         "25",
         "1.0"
        ],
        [
         "26",
         "4.0"
        ],
        [
         "27",
         "1.0"
        ],
        [
         "28",
         "3.0"
        ],
        [
         "29",
         "5.0"
        ],
        [
         "30",
         "3.0"
        ],
        [
         "31",
         "3.0"
        ],
        [
         "32",
         "1.0"
        ],
        [
         "33",
         "4.0"
        ],
        [
         "34",
         "1.0"
        ],
        [
         "35",
         "3.0"
        ],
        [
         "36",
         "4.0"
        ],
        [
         "37",
         "1.0"
        ],
        [
         "38",
         "1.0"
        ],
        [
         "39",
         "1.0"
        ],
        [
         "40",
         "4.0"
        ],
        [
         "41",
         "1.0"
        ],
        [
         "42",
         "1.0"
        ],
        [
         "43",
         "1.0"
        ],
        [
         "44",
         "1.0"
        ],
        [
         "45",
         "0.0"
        ],
        [
         "46",
         "1.0"
        ],
        [
         "47",
         "1.0"
        ],
        [
         "48",
         "3.0"
        ],
        [
         "49",
         "1.0"
        ]
       ],
       "shape": {
        "columns": 1,
        "rows": 574053
       }
      },
      "text/html": [
       "<div>\n",
       "<style scoped>\n",
       "    .dataframe tbody tr th:only-of-type {\n",
       "        vertical-align: middle;\n",
       "    }\n",
       "\n",
       "    .dataframe tbody tr th {\n",
       "        vertical-align: top;\n",
       "    }\n",
       "\n",
       "    .dataframe thead th {\n",
       "        text-align: right;\n",
       "    }\n",
       "</style>\n",
       "<table border=\"1\" class=\"dataframe\">\n",
       "  <thead>\n",
       "    <tr style=\"text-align: right;\">\n",
       "      <th></th>\n",
       "      <th>Claim Injury Type_encoded</th>\n",
       "    </tr>\n",
       "  </thead>\n",
       "  <tbody>\n",
       "    <tr>\n",
       "      <th>0</th>\n",
       "      <td>1.0</td>\n",
       "    </tr>\n",
       "    <tr>\n",
       "      <th>1</th>\n",
       "      <td>3.0</td>\n",
       "    </tr>\n",
       "    <tr>\n",
       "      <th>2</th>\n",
       "      <td>3.0</td>\n",
       "    </tr>\n",
       "    <tr>\n",
       "      <th>3</th>\n",
       "      <td>1.0</td>\n",
       "    </tr>\n",
       "    <tr>\n",
       "      <th>4</th>\n",
       "      <td>2.0</td>\n",
       "    </tr>\n",
       "    <tr>\n",
       "      <th>...</th>\n",
       "      <td>...</td>\n",
       "    </tr>\n",
       "    <tr>\n",
       "      <th>574048</th>\n",
       "      <td>1.0</td>\n",
       "    </tr>\n",
       "    <tr>\n",
       "      <th>574049</th>\n",
       "      <td>1.0</td>\n",
       "    </tr>\n",
       "    <tr>\n",
       "      <th>574050</th>\n",
       "      <td>3.0</td>\n",
       "    </tr>\n",
       "    <tr>\n",
       "      <th>574051</th>\n",
       "      <td>1.0</td>\n",
       "    </tr>\n",
       "    <tr>\n",
       "      <th>574052</th>\n",
       "      <td>1.0</td>\n",
       "    </tr>\n",
       "  </tbody>\n",
       "</table>\n",
       "<p>574053 rows × 1 columns</p>\n",
       "</div>"
      ],
      "text/plain": [
       "        Claim Injury Type_encoded\n",
       "0                             1.0\n",
       "1                             3.0\n",
       "2                             3.0\n",
       "3                             1.0\n",
       "4                             2.0\n",
       "...                           ...\n",
       "574048                        1.0\n",
       "574049                        1.0\n",
       "574050                        3.0\n",
       "574051                        1.0\n",
       "574052                        1.0\n",
       "\n",
       "[574053 rows x 1 columns]"
      ]
     },
     "execution_count": 48,
     "metadata": {},
     "output_type": "execute_result"
    }
   ],
   "source": [
    "y_ordinal = df[ordinal_target]\n",
    "y_ordinal"
   ]
  },
  {
   "cell_type": "code",
   "execution_count": 49,
   "metadata": {},
   "outputs": [
    {
     "name": "stdout",
     "output_type": "stream",
     "text": [
      "Initializing CV_1/3...\n",
      "Ordinal encoding...\n",
      "Frequency encoding...\n",
      "Impuiting missing values...\n",
      "Redundant features to drop: ['Average Weekly Wage', 'Days from COVID', 'C2_Accident_gap_weeks', 'Hearing Date_missing', 'Hearing_assembly_gap_months', 'Gender_encoded']\n",
      "Number of features after dropping redundant features: 48\n",
      "RFE with 20 features testing...\n",
      "Fitting estimator with 48 features.\n",
      "Fitting estimator with 43 features.\n",
      "Fitting estimator with 38 features.\n",
      "Fitting estimator with 33 features.\n",
      "Fitting estimator with 28 features.\n",
      "Fitting estimator with 23 features.\n",
      "RFE with 20 features is the best so far...\n",
      "Train Score:  0.492\n",
      "Validation Score:  0.402\n",
      "RFE with 25 features testing...\n",
      "Fitting estimator with 48 features.\n",
      "Fitting estimator with 43 features.\n",
      "Fitting estimator with 38 features.\n",
      "Fitting estimator with 33 features.\n",
      "Fitting estimator with 28 features.\n",
      "RFE with 30 features testing...\n",
      "Fitting estimator with 48 features.\n",
      "Fitting estimator with 43 features.\n",
      "Fitting estimator with 38 features.\n",
      "Fitting estimator with 33 features.\n",
      "RFE with 30 features is the best so far...\n",
      "Train Score:  0.545\n",
      "Validation Score:  0.404\n",
      "RFE with 35 features testing...\n",
      "Fitting estimator with 48 features.\n",
      "Fitting estimator with 43 features.\n",
      "Fitting estimator with 38 features.\n",
      "RFE with 40 features testing...\n",
      "Fitting estimator with 48 features.\n",
      "Fitting estimator with 43 features.\n",
      "RFE with 40 features is the best so far...\n",
      "Train Score:  0.545\n",
      "Validation Score:  0.412\n",
      "RFE with 45 features testing...\n",
      "Fitting estimator with 48 features.\n",
      "RFE with 35 features testing...\n",
      "Fitting estimator with 48 features.\n",
      "Fitting estimator with 45 features.\n",
      "Fitting estimator with 42 features.\n",
      "Fitting estimator with 39 features.\n",
      "Fitting estimator with 36 features.\n",
      "RFE with 38 features testing...\n",
      "Fitting estimator with 48 features.\n",
      "Fitting estimator with 45 features.\n",
      "Fitting estimator with 42 features.\n",
      "Fitting estimator with 39 features.\n",
      "RFE with 38 features is the best so far - Train Score: 0.549 / Val Score: 0.414\n",
      "RFE with 41 features testing...\n",
      "Fitting estimator with 48 features.\n",
      "Fitting estimator with 45 features.\n",
      "Fitting estimator with 42 features.\n",
      "RFE with 44 features testing...\n",
      "Fitting estimator with 48 features.\n",
      "Fitting estimator with 45 features.\n",
      "Best RFE Features: ['Age at Injury', 'Attorney/Representative', 'COVID-19 Indicator', 'IME-4 Count', 'Number of Dependents', 'Accident Date_year', 'Accident Date_weekday', 'Accident Date_month', 'Accident Date_month_sin', 'Accident Date_assembly_gap_days', 'C3-C2_gap_days', 'C2_missing', 'C3_missing', 'C3_Accident_gap_weeks', 'Hearing_C3 gap_months', 'Hearing_C2 gap_months', 'Days to Assembly', 'Days to First Hearing', 'Average Weekly Wage_log', 'Carrier Name_encoded', 'Carrier Type_encoded', 'County of Injury_encoded', 'District Name_encoded', 'Industry Code Description_encoded', 'WCIO Cause of Injury Description_encoded', 'WCIO Nature of Injury Description_encoded', 'WCIO Part Of Body Description_encoded', 'Zip Code_encoded', 'County of Worker_encoded', 'Carrier Name_freq', 'County of Injury_freq', 'District Name_freq', 'Industry Code Description_freq', 'WCIO Cause of Injury Description_freq', 'WCIO Nature of Injury Description_freq', 'WCIO Part Of Body Description_freq', 'Zip Code_freq', 'County of Worker_freq']\n",
      "Best Validation Score: 0.41358065863088644 with 38 features\n",
      "Classification Report:               precision    recall  f1-score   support\n",
      "\n",
      "         0.0       0.34      0.75      0.47      4159\n",
      "         1.0       0.89      0.86      0.87     97031\n",
      "         2.0       0.35      0.24      0.29     22970\n",
      "         3.0       0.79      0.54      0.64     49505\n",
      "         4.0       0.53      0.72      0.61     16094\n",
      "         5.0       0.07      0.77      0.13      1403\n",
      "         6.0       0.08      0.03      0.05        32\n",
      "         7.0       0.15      0.83      0.25       157\n",
      "\n",
      "    accuracy                           0.69    191351\n",
      "   macro avg       0.40      0.59      0.41    191351\n",
      "weighted avg       0.75      0.69      0.71    191351\n",
      "\n",
      "--------------------------------------------------\n",
      "Initializing CV_2/3...\n",
      "Ordinal encoding...\n",
      "Frequency encoding...\n",
      "Impuiting missing values...\n",
      "Redundant features to drop: ['Average Weekly Wage', 'Days from COVID', 'C2_Accident_gap_weeks', 'Hearing Date_missing', 'Hearing_assembly_gap_months', 'Gender_encoded']\n",
      "Number of features after dropping redundant features: 48\n",
      "RFE with 20 features testing...\n",
      "Fitting estimator with 48 features.\n",
      "Fitting estimator with 43 features.\n",
      "Fitting estimator with 38 features.\n",
      "Fitting estimator with 33 features.\n",
      "Fitting estimator with 28 features.\n",
      "Fitting estimator with 23 features.\n",
      "RFE with 20 features is the best so far...\n",
      "Train Score:  0.492\n",
      "Validation Score:  0.403\n",
      "RFE with 25 features testing...\n",
      "Fitting estimator with 48 features.\n",
      "Fitting estimator with 43 features.\n",
      "Fitting estimator with 38 features.\n",
      "Fitting estimator with 33 features.\n",
      "Fitting estimator with 28 features.\n",
      "RFE with 25 features is the best so far...\n",
      "Train Score:  0.517\n",
      "Validation Score:  0.406\n",
      "RFE with 30 features testing...\n",
      "Fitting estimator with 48 features.\n",
      "Fitting estimator with 43 features.\n",
      "Fitting estimator with 38 features.\n",
      "Fitting estimator with 33 features.\n",
      "RFE with 30 features is the best so far...\n",
      "Train Score:  0.521\n",
      "Validation Score:  0.414\n",
      "RFE with 35 features testing...\n",
      "Fitting estimator with 48 features.\n",
      "Fitting estimator with 43 features.\n",
      "Fitting estimator with 38 features.\n",
      "RFE with 40 features testing...\n",
      "Fitting estimator with 48 features.\n",
      "Fitting estimator with 43 features.\n",
      "RFE with 25 features testing...\n",
      "Fitting estimator with 48 features.\n",
      "Fitting estimator with 45 features.\n",
      "Fitting estimator with 42 features.\n",
      "Fitting estimator with 39 features.\n",
      "Fitting estimator with 36 features.\n",
      "Fitting estimator with 33 features.\n",
      "Fitting estimator with 30 features.\n",
      "Fitting estimator with 27 features.\n",
      "RFE with 28 features testing...\n",
      "Fitting estimator with 48 features.\n",
      "Fitting estimator with 45 features.\n",
      "Fitting estimator with 42 features.\n",
      "Fitting estimator with 39 features.\n",
      "Fitting estimator with 36 features.\n",
      "Fitting estimator with 33 features.\n",
      "Fitting estimator with 30 features.\n",
      "RFE with 31 features testing...\n",
      "Fitting estimator with 48 features.\n",
      "Fitting estimator with 45 features.\n",
      "Fitting estimator with 42 features.\n",
      "Fitting estimator with 39 features.\n",
      "Fitting estimator with 36 features.\n",
      "Fitting estimator with 33 features.\n",
      "RFE with 34 features testing...\n",
      "Fitting estimator with 48 features.\n",
      "Fitting estimator with 45 features.\n",
      "Fitting estimator with 42 features.\n",
      "Fitting estimator with 39 features.\n",
      "Fitting estimator with 36 features.\n",
      "Best RFE Features: ['Age at Injury', 'Attorney/Representative', 'IME-4 Count', 'Accident Date_year', 'Accident Date_assembly_gap_days', 'C3-C2_gap_days', 'C2_missing', 'C3_missing', 'C3_Accident_gap_weeks', 'Hearing_C3 gap_months', 'Hearing_C2 gap_months', 'Days to Assembly', 'Days to First Hearing', 'Average Weekly Wage_log', 'Carrier Name_encoded', 'County of Injury_encoded', 'Industry Code Description_encoded', 'WCIO Cause of Injury Description_encoded', 'WCIO Nature of Injury Description_encoded', 'WCIO Part Of Body Description_encoded', 'Zip Code_encoded', 'County of Worker_encoded', 'Carrier Name_freq', 'County of Injury_freq', 'District Name_freq', 'Industry Code Description_freq', 'WCIO Cause of Injury Description_freq', 'WCIO Nature of Injury Description_freq', 'WCIO Part Of Body Description_freq', 'Zip Code_freq']\n",
      "Best Validation Score: 0.41383943329003087 with 30 features\n",
      "Classification Report:               precision    recall  f1-score   support\n",
      "\n",
      "         0.0       0.33      0.75      0.46      4159\n",
      "         1.0       0.89      0.86      0.87     97031\n",
      "         2.0       0.34      0.23      0.28     22970\n",
      "         3.0       0.79      0.55      0.65     49505\n",
      "         4.0       0.54      0.70      0.61     16093\n",
      "         5.0       0.07      0.77      0.12      1404\n",
      "         6.0       0.03      0.03      0.03        32\n",
      "         7.0       0.16      0.86      0.26       157\n",
      "\n",
      "    accuracy                           0.69    191351\n",
      "   macro avg       0.39      0.59      0.41    191351\n",
      "weighted avg       0.75      0.69      0.71    191351\n",
      "\n",
      "--------------------------------------------------\n",
      "Initializing CV_3/3...\n",
      "Ordinal encoding...\n",
      "Frequency encoding...\n",
      "Impuiting missing values...\n",
      "Redundant features to drop: ['Average Weekly Wage', 'Days from COVID', 'C2_Accident_gap_weeks', 'Hearing Date_missing', 'Hearing_assembly_gap_months', 'Gender_encoded']\n",
      "Number of features after dropping redundant features: 48\n",
      "RFE with 20 features testing...\n",
      "Fitting estimator with 48 features.\n",
      "Fitting estimator with 43 features.\n",
      "Fitting estimator with 38 features.\n",
      "Fitting estimator with 33 features.\n",
      "Fitting estimator with 28 features.\n",
      "Fitting estimator with 23 features.\n",
      "RFE with 20 features is the best so far...\n",
      "Train Score:  0.513\n",
      "Validation Score:  0.402\n",
      "RFE with 25 features testing...\n",
      "Fitting estimator with 48 features.\n",
      "Fitting estimator with 43 features.\n",
      "Fitting estimator with 38 features.\n",
      "Fitting estimator with 33 features.\n",
      "Fitting estimator with 28 features.\n",
      "RFE with 25 features is the best so far...\n",
      "Train Score:  0.544\n",
      "Validation Score:  0.405\n",
      "RFE with 30 features testing...\n",
      "Fitting estimator with 48 features.\n",
      "Fitting estimator with 43 features.\n",
      "Fitting estimator with 38 features.\n",
      "Fitting estimator with 33 features.\n",
      "RFE with 30 features is the best so far...\n",
      "Train Score:  0.561\n",
      "Validation Score:  0.415\n",
      "RFE with 35 features testing...\n",
      "Fitting estimator with 48 features.\n",
      "Fitting estimator with 43 features.\n",
      "Fitting estimator with 38 features.\n",
      "RFE with 40 features testing...\n",
      "Fitting estimator with 48 features.\n",
      "Fitting estimator with 43 features.\n",
      "RFE with 25 features testing...\n",
      "Fitting estimator with 48 features.\n",
      "Fitting estimator with 45 features.\n",
      "Fitting estimator with 42 features.\n",
      "Fitting estimator with 39 features.\n",
      "Fitting estimator with 36 features.\n",
      "Fitting estimator with 33 features.\n",
      "Fitting estimator with 30 features.\n",
      "Fitting estimator with 27 features.\n",
      "RFE with 28 features testing...\n",
      "Fitting estimator with 48 features.\n",
      "Fitting estimator with 45 features.\n",
      "Fitting estimator with 42 features.\n",
      "Fitting estimator with 39 features.\n",
      "Fitting estimator with 36 features.\n",
      "Fitting estimator with 33 features.\n",
      "Fitting estimator with 30 features.\n",
      "RFE with 31 features testing...\n",
      "Fitting estimator with 48 features.\n",
      "Fitting estimator with 45 features.\n",
      "Fitting estimator with 42 features.\n",
      "Fitting estimator with 39 features.\n",
      "Fitting estimator with 36 features.\n",
      "Fitting estimator with 33 features.\n",
      "RFE with 34 features testing...\n",
      "Fitting estimator with 48 features.\n",
      "Fitting estimator with 45 features.\n",
      "Fitting estimator with 42 features.\n",
      "Fitting estimator with 39 features.\n",
      "Fitting estimator with 36 features.\n",
      "Best RFE Features: ['Age at Injury', 'Attorney/Representative', 'IME-4 Count', 'Accident Date_year', 'Accident Date_assembly_gap_days', 'C3-C2_gap_days', 'C2_missing', 'C3_missing', 'C3_Accident_gap_weeks', 'Hearing_C3 gap_months', 'Hearing_C2 gap_months', 'Days to Assembly', 'Days to First Hearing', 'Average Weekly Wage_log', 'Carrier Name_encoded', 'County of Injury_encoded', 'Industry Code Description_encoded', 'WCIO Cause of Injury Description_encoded', 'WCIO Nature of Injury Description_encoded', 'WCIO Part Of Body Description_encoded', 'Zip Code_encoded', 'Carrier Name_freq', 'County of Injury_freq', 'District Name_freq', 'Industry Code Description_freq', 'WCIO Cause of Injury Description_freq', 'WCIO Nature of Injury Description_freq', 'WCIO Part Of Body Description_freq', 'Zip Code_freq', 'County of Worker_freq']\n",
      "Best Validation Score: 0.4147443454048372 with 30 features\n",
      "Classification Report:               precision    recall  f1-score   support\n",
      "\n",
      "         0.0       0.31      0.76      0.44      4159\n",
      "         1.0       0.89      0.85      0.87     97031\n",
      "         2.0       0.34      0.23      0.28     22970\n",
      "         3.0       0.79      0.55      0.65     49505\n",
      "         4.0       0.52      0.70      0.60     16093\n",
      "         5.0       0.06      0.73      0.12      1404\n",
      "         6.0       0.00      0.00      0.00        33\n",
      "         7.0       0.15      0.78      0.26       156\n",
      "\n",
      "    accuracy                           0.68    191351\n",
      "   macro avg       0.38      0.58      0.40    191351\n",
      "weighted avg       0.75      0.68      0.70    191351\n",
      "\n",
      "--------------------------------------------------\n"
     ]
    },
    {
     "data": {
      "text/plain": [
       "[{'CV': 'CV_1',\n",
       "  'Target': 'Ordinal_Encoded',\n",
       "  'RFE Features': ['Age at Injury',\n",
       "   'Attorney/Representative',\n",
       "   'COVID-19 Indicator',\n",
       "   'IME-4 Count',\n",
       "   'Number of Dependents',\n",
       "   'Accident Date_year',\n",
       "   'Accident Date_weekday',\n",
       "   'Accident Date_month',\n",
       "   'Accident Date_month_sin',\n",
       "   'Accident Date_assembly_gap_days',\n",
       "   'C3-C2_gap_days',\n",
       "   'C2_missing',\n",
       "   'C3_missing',\n",
       "   'C3_Accident_gap_weeks',\n",
       "   'Hearing_C3 gap_months',\n",
       "   'Hearing_C2 gap_months',\n",
       "   'Days to Assembly',\n",
       "   'Days to First Hearing',\n",
       "   'Average Weekly Wage_log',\n",
       "   'Carrier Name_encoded',\n",
       "   'Carrier Type_encoded',\n",
       "   'County of Injury_encoded',\n",
       "   'District Name_encoded',\n",
       "   'Industry Code Description_encoded',\n",
       "   'WCIO Cause of Injury Description_encoded',\n",
       "   'WCIO Nature of Injury Description_encoded',\n",
       "   'WCIO Part Of Body Description_encoded',\n",
       "   'Zip Code_encoded',\n",
       "   'County of Worker_encoded',\n",
       "   'Carrier Name_freq',\n",
       "   'County of Injury_freq',\n",
       "   'District Name_freq',\n",
       "   'Industry Code Description_freq',\n",
       "   'WCIO Cause of Injury Description_freq',\n",
       "   'WCIO Nature of Injury Description_freq',\n",
       "   'WCIO Part Of Body Description_freq',\n",
       "   'Zip Code_freq',\n",
       "   'County of Worker_freq'],\n",
       "  'Validation Score': 0.41358065863088644},\n",
       " {'CV': 'CV_2',\n",
       "  'Target': 'Ordinal_Encoded',\n",
       "  'RFE Features': ['Age at Injury',\n",
       "   'Attorney/Representative',\n",
       "   'IME-4 Count',\n",
       "   'Accident Date_year',\n",
       "   'Accident Date_assembly_gap_days',\n",
       "   'C3-C2_gap_days',\n",
       "   'C2_missing',\n",
       "   'C3_missing',\n",
       "   'C3_Accident_gap_weeks',\n",
       "   'Hearing_C3 gap_months',\n",
       "   'Hearing_C2 gap_months',\n",
       "   'Days to Assembly',\n",
       "   'Days to First Hearing',\n",
       "   'Average Weekly Wage_log',\n",
       "   'Carrier Name_encoded',\n",
       "   'County of Injury_encoded',\n",
       "   'Industry Code Description_encoded',\n",
       "   'WCIO Cause of Injury Description_encoded',\n",
       "   'WCIO Nature of Injury Description_encoded',\n",
       "   'WCIO Part Of Body Description_encoded',\n",
       "   'Zip Code_encoded',\n",
       "   'County of Worker_encoded',\n",
       "   'Carrier Name_freq',\n",
       "   'County of Injury_freq',\n",
       "   'District Name_freq',\n",
       "   'Industry Code Description_freq',\n",
       "   'WCIO Cause of Injury Description_freq',\n",
       "   'WCIO Nature of Injury Description_freq',\n",
       "   'WCIO Part Of Body Description_freq',\n",
       "   'Zip Code_freq'],\n",
       "  'Validation Score': 0.41383943329003087},\n",
       " {'CV': 'CV_3',\n",
       "  'Target': 'Ordinal_Encoded',\n",
       "  'RFE Features': ['Age at Injury',\n",
       "   'Attorney/Representative',\n",
       "   'IME-4 Count',\n",
       "   'Accident Date_year',\n",
       "   'Accident Date_assembly_gap_days',\n",
       "   'C3-C2_gap_days',\n",
       "   'C2_missing',\n",
       "   'C3_missing',\n",
       "   'C3_Accident_gap_weeks',\n",
       "   'Hearing_C3 gap_months',\n",
       "   'Hearing_C2 gap_months',\n",
       "   'Days to Assembly',\n",
       "   'Days to First Hearing',\n",
       "   'Average Weekly Wage_log',\n",
       "   'Carrier Name_encoded',\n",
       "   'County of Injury_encoded',\n",
       "   'Industry Code Description_encoded',\n",
       "   'WCIO Cause of Injury Description_encoded',\n",
       "   'WCIO Nature of Injury Description_encoded',\n",
       "   'WCIO Part Of Body Description_encoded',\n",
       "   'Zip Code_encoded',\n",
       "   'Carrier Name_freq',\n",
       "   'County of Injury_freq',\n",
       "   'District Name_freq',\n",
       "   'Industry Code Description_freq',\n",
       "   'WCIO Cause of Injury Description_freq',\n",
       "   'WCIO Nature of Injury Description_freq',\n",
       "   'WCIO Part Of Body Description_freq',\n",
       "   'Zip Code_freq',\n",
       "   'County of Worker_freq'],\n",
       "  'Validation Score': 0.4147443454048372}]"
      ]
     },
     "execution_count": 49,
     "metadata": {},
     "output_type": "execute_result"
    }
   ],
   "source": [
    "n_splits = 3\n",
    "stratified_kf = StratifiedKFold(n_splits=n_splits, shuffle=True, random_state=42)\n",
    "\n",
    "feat_sel_results = []\n",
    "\n",
    "for i, (train_index, val_index) in enumerate(stratified_kf.split(X, y_ordinal), start=1):\n",
    "        print(f\"Initializing CV_{i}/{n_splits}...\")\n",
    "        X_train, X_val = X.iloc[train_index], X.iloc[val_index]\n",
    "        y_train, y_val = y_ordinal.iloc[train_index], y_ordinal.iloc[val_index]\n",
    "        #y_binaries_train, y_binaries_val = y_binaries.iloc[train_index], y_binaries.iloc[val_index]\n",
    "\n",
    "    \n",
    "        #--------------- Target Ordinal Encoding \n",
    "        \n",
    "\n",
    "        print(f\"Ordinal encoding...\")\n",
    "        X_train_encoded = X_train.copy()\n",
    "        X_val_encoded = X_val.copy()\n",
    "        for cat in cat_feats:\n",
    "            X_train_encoded, X_val_encoded, ordinal_mapping = target_guided_ordinal_encoding(X_train_encoded, X_val_encoded, cat, ordinal_target, y_train, 1)\n",
    "            # if i == 1:\n",
    "            #     plot_numerical(X_val_encoded, f\"{cat}_encoded\")\n",
    "            #     plot_numerical_vs_target(X_val_encoded, f\"{cat}_encoded\", y_val.squeeze())\n",
    "        \n",
    "        columns = X_train_encoded.columns\n",
    "\n",
    "        # --------------- Frequency Encoding\n",
    "        cat_feats = [feat for feat in X_train.columns if X_train[feat].dtype == \"object\"]\n",
    "        print(f\"Frequency encoding...\")\n",
    "        for cat in cat_feats:\n",
    "            X_train_encoded, X_val_encoded, freq_map = frequency_encoding(X_train_encoded, X_val_encoded, cat)\n",
    "            # if i == 1:\n",
    "            #     plot_numerical(X_val_encoded, f\"{cat}_freq\")\n",
    "            #     plot_numerical_vs_target(X_val_encoded, f\"{cat}_freq\", y_val.squeeze())\n",
    "        \n",
    "        # --------------- Imputing missing values\n",
    "        print(f\"Impuiting missing values...\")\n",
    "        X_train_imputed, X_val_imputed = num_imputing(X_train_encoded, X_val_encoded)\n",
    "        \n",
    "        \n",
    "        # ------------ Correlation (dropping redundant features)\n",
    "        redundant_features_to_drop = cross_corr_mean(X_train_imputed, corr_coeff=0.90)\n",
    "        print(f\"Redundant features to drop: {redundant_features_to_drop}\")\n",
    "        X_train_imputed = X_train_imputed.drop(columns=redundant_features_to_drop)\n",
    "        X_val_imputed = X_val_imputed.drop(columns=redundant_features_to_drop)\n",
    "        \n",
    "        print(f\"Number of features after dropping redundant features: {X_train_imputed.shape[1]}\")\n",
    "        \n",
    "        \n",
    "        # ------------ Recursive Feature Elimination\n",
    "        columns = X_train_imputed.columns\n",
    "        group_sizes = [X_train_imputed.shape[1] // 4 * i for i in range(1, 10)]\n",
    "        nof_list = np.arange(20, X_train_imputed.shape[1] + 1, 5)\n",
    "        high_score = 0\n",
    "        val_score = 0\n",
    "        nof = 0\n",
    "        \n",
    "        for n in nof_list:\n",
    "            if (n > nof + 10) & (val_score < high_score):\n",
    "                break\n",
    "            \n",
    "            print(f\"RFE with {n} features testing...\")\n",
    "            \n",
    "\n",
    "            model = RandomForestClassifier(max_depth=12, random_state=42, n_jobs=-1, n_estimators=100, max_samples=0.9, class_weight='balanced') \n",
    "                \n",
    "            rfe = RFE(estimator=model, n_features_to_select=n, step=5, verbose = 1)\n",
    "            \n",
    "            X_train_rfe = rfe.fit_transform(X_train_imputed, y_train)\n",
    "            X_val_rfe = rfe.transform(X_val_imputed)\n",
    "                \n",
    "            model.fit(X_train_rfe, y_train)\n",
    "            \n",
    "            train_predictions = model.predict(X_train_rfe)\n",
    "            val_predictions = model.predict(X_val_rfe)\n",
    "            \n",
    "            train_score = f1_score(y_train, train_predictions, average=\"macro\")\n",
    "            val_score = f1_score(y_val, val_predictions, average=\"macro\")\n",
    "            \n",
    "            if val_score > high_score or (val_score == 0 and n == nof_list[-1]):\n",
    "                print(f\"RFE with {n} features is the best so far...\")\n",
    "                print(\"Train Score: \", round(train_score, 3))\n",
    "                print(\"Validation Score: \", round(val_score, 3))\n",
    "                high_score = val_score\n",
    "                nof = n\n",
    "\n",
    "                features_to_select = pd.Series(rfe.support_, index=columns)\n",
    "                RFE_feats = features_to_select[features_to_select].index.tolist()\n",
    "        \n",
    "        fine_steps =  np.arange(nof- 5, nof + 5, 3, dtype=int)\n",
    "        fine_steps = [step for step in fine_steps if step != nof]        \n",
    "        fine_steps = [step for step in fine_steps if step <= X_train_imputed.shape[1]]\n",
    "\n",
    "        fine_steps\n",
    "        for j in fine_steps:\n",
    "            print(f\"RFE with {j} features testing...\")\n",
    "            \n",
    "            model = RandomForestClassifier(max_depth=12, random_state=42, n_jobs=-1, n_estimators=100, max_samples=0.9, class_weight='balanced') \n",
    "\n",
    "            \n",
    "            rfe = RFE(estimator=model, n_features_to_select=j, step=3, verbose=1)\n",
    "        \n",
    "            X_train_rfe = rfe.fit_transform(X_train_imputed, y_train)\n",
    "            X_val_rfe = rfe.transform(X_val_imputed)\n",
    "            \n",
    "            model.fit(X_train_rfe, y_train)\n",
    "            model.fit(X_train_rfe, y_train)\n",
    "            \n",
    "            train_probas = model.predict_proba(X_train_rfe)[:, 1]\n",
    "            val_probas = model.predict_proba(X_val_rfe)[:, 1]\n",
    "            \n",
    "            train_predictions = model.predict(X_train_rfe)\n",
    "            val_predictions = model.predict(X_val_rfe)\n",
    "            \n",
    "            train_score = f1_score(y_train, train_predictions, average=\"macro\")\n",
    "            val_score = f1_score(y_val, val_predictions, average=\"macro\")\n",
    "        \n",
    "            if val_score > high_score:\n",
    "                print(f\"RFE with {j} features is the best so far - Train Score: {round(train_score, 3)} / Val Score: {round(val_score, 3)}\")\n",
    "                high_score = val_score\n",
    "                nof = j\n",
    "\n",
    "                features_to_select = pd.Series(rfe.support_, index=columns)\n",
    "                RFE_feats = features_to_select[features_to_select].index.tolist()\n",
    "                    \n",
    "        feat_sel_results.append({\n",
    "                    \"CV\": f\"CV_{i}\",\n",
    "                    \"Target\": \"Ordinal_Encoded\",\n",
    "                    \"RFE Features\": RFE_feats,\n",
    "                    \"Validation Score\": high_score\n",
    "                })\n",
    "        print(f\"Best RFE Features: {RFE_feats}\")\n",
    "        print(f\"Best Validation Score: {high_score} with {nof} features\")\n",
    "        print(f\"Classification Report: {classification_report(y_val, val_predictions)}\")\n",
    "        print(\"--------------------------------------------------\")\n",
    "    \n",
    "feat_sel_results"
   ]
  },
  {
   "cell_type": "code",
   "execution_count": 50,
   "metadata": {},
   "outputs": [
    {
     "data": {
      "text/plain": [
       "['Age at Injury',\n",
       " 'Attorney/Representative',\n",
       " 'IME-4 Count',\n",
       " 'Accident Date_year',\n",
       " 'Accident Date_assembly_gap_days',\n",
       " 'C3-C2_gap_days',\n",
       " 'C2_missing',\n",
       " 'C3_missing',\n",
       " 'C3_Accident_gap_weeks',\n",
       " 'Hearing_C3 gap_months',\n",
       " 'Hearing_C2 gap_months',\n",
       " 'Days to Assembly',\n",
       " 'Days to First Hearing',\n",
       " 'Average Weekly Wage_log',\n",
       " 'Carrier Name_encoded',\n",
       " 'County of Injury_encoded',\n",
       " 'Industry Code Description_encoded',\n",
       " 'WCIO Cause of Injury Description_encoded',\n",
       " 'WCIO Nature of Injury Description_encoded',\n",
       " 'WCIO Part Of Body Description_encoded',\n",
       " 'Zip Code_encoded',\n",
       " 'County of Worker_encoded',\n",
       " 'Carrier Name_freq',\n",
       " 'County of Injury_freq',\n",
       " 'District Name_freq',\n",
       " 'Industry Code Description_freq',\n",
       " 'WCIO Cause of Injury Description_freq',\n",
       " 'WCIO Nature of Injury Description_freq',\n",
       " 'WCIO Part Of Body Description_freq',\n",
       " 'Zip Code_freq',\n",
       " 'County of Worker_freq']"
      ]
     },
     "execution_count": 50,
     "metadata": {},
     "output_type": "execute_result"
    }
   ],
   "source": [
    "all_features = []\n",
    "for result in feat_sel_results:\n",
    "    all_features.extend(result['RFE Features'])\n",
    "\n",
    "feature_counts = Counter(all_features)\n",
    "\n",
    "selected_features = [feature for feature, count in feature_counts.items() if count >= 2]\n",
    "\n",
    "selected_features"
   ]
  },
  {
   "cell_type": "code",
   "execution_count": 51,
   "metadata": {},
   "outputs": [
    {
     "data": {
      "text/plain": [
       "31"
      ]
     },
     "execution_count": 51,
     "metadata": {},
     "output_type": "execute_result"
    }
   ],
   "source": [
    "len(selected_features)"
   ]
  },
  {
   "cell_type": "code",
   "execution_count": null,
   "metadata": {},
   "outputs": [],
   "source": []
  }
 ],
 "metadata": {
  "kernelspec": {
   "display_name": "base",
   "language": "python",
   "name": "python3"
  },
  "language_info": {
   "codemirror_mode": {
    "name": "ipython",
    "version": 3
   },
   "file_extension": ".py",
   "mimetype": "text/x-python",
   "name": "python",
   "nbconvert_exporter": "python",
   "pygments_lexer": "ipython3",
   "version": "3.13.5"
  }
 },
 "nbformat": 4,
 "nbformat_minor": 2
}
